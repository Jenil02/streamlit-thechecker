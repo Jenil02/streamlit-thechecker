{
 "cells": [
  {
   "cell_type": "code",
   "execution_count": 1,
   "metadata": {},
   "outputs": [],
   "source": [
    "import firebase_admin\n",
    "from firebase_admin import credentials\n",
    "\n",
    "cred = credentials.Certificate(\"/Users/jenil/Downloads/thechecker-3d60b-firebase-adminsdk-utv31-ba6158bdf3.json\")\n",
    "firebase_admin.initialize_app(cred)\n",
    "\n",
    "from firebase_admin import firestore\n",
    "\n",
    "db = firestore.client()"
   ]
  },
  {
   "cell_type": "code",
   "execution_count": 2,
   "metadata": {},
   "outputs": [
    {
     "data": {
      "text/plain": [
       "update_time {\n",
       "  seconds: 1696679295\n",
       "  nanos: 956635000\n",
       "}"
      ]
     },
     "execution_count": 2,
     "metadata": {},
     "output_type": "execute_result"
    }
   ],
   "source": [
    "doc_ref = db.collection(\"users\").document(\"alovelace\")\n",
    "doc_ref.set({\"first\": \"Ada\", \"last\": \"Lovelace\", \"born\": 1815})"
   ]
  },
  {
   "cell_type": "code",
   "execution_count": 9,
   "metadata": {},
   "outputs": [
    {
     "data": {
      "text/plain": [
       "update_time {\n",
       "  seconds: 1696856948\n",
       "  nanos: 720709000\n",
       "}"
      ]
     },
     "execution_count": 9,
     "metadata": {},
     "output_type": "execute_result"
    }
   ],
   "source": [
    "doc_ref = db.collection(\"textreviewer\").document(\"languages\").collection(\"gujarati\").document(\"doc1\")\n",
    "doc_ref.set({\"image\": \"https://drive.google.com/file/d/1SQJaQZYrSRGodwsQdtgOwW9bituWuyo1/view?usp=drive_link\", \"text\": \"પાન્ડોરા ની પેટી પુનરકથન અને ચિત્રાંકન : લિલ વેઇલ\", \"errorline\": \"Turing\", \"corrected line\": '1912', \"reviewed\": \"yes\"})"
   ]
  },
  {
   "cell_type": "code",
   "execution_count": 4,
   "metadata": {},
   "outputs": [
    {
     "name": "stdout",
     "output_type": "stream",
     "text": [
      "alovelace => {'last': 'Lovelace', 'first': 'Ada', 'born': 1815}\n",
      "aturing => {'last': 'Turing', 'first': 'Alan', 'middle': 'Mathinson', 'born': 1912}\n",
      "gujarati => {'text': 'Mathinson', 'last': 'Turing', 'image': 'https://drive.google.com/file/d/1SQJaQZYrSRGodwsQdtgOwW9bituWuyo1/view?usp=drive_link', 'born': 1912}\n"
     ]
    }
   ],
   "source": [
    "users_ref = db.collection(\"users\")\n",
    "docs = users_ref.stream()\n",
    "\n",
    "for doc in docs:\n",
    "    print(f\"{doc.id} => {doc.to_dict()}\")"
   ]
  },
  {
   "cell_type": "code",
   "execution_count": 11,
   "metadata": {},
   "outputs": [
    {
     "name": "stdout",
     "output_type": "stream",
     "text": [
      "Largest component size: 500023\n"
     ]
    }
   ],
   "source": [
    "# import networkx as nx\n",
    "# import math\n",
    "# import random\n",
    "\n",
    "# def generate_random_network(n, m):\n",
    "#     # Generate a random network with n nodes and m edges\n",
    "#     G = nx.gnm_random_graph(n, m)\n",
    "#     return G\n",
    "\n",
    "# def calculate_largest_component_size(G):\n",
    "#     # Calculate the size of the largest component\n",
    "#     components = list(nx.connected_components(G))\n",
    "#     largest_component = max(components, key=len)\n",
    "#     largest_component_size = len(largest_component)\n",
    "#     return largest_component_size\n",
    "\n",
    "# def main():\n",
    "#     # Parameters\n",
    "#     n = 10**6  # Number of nodes\n",
    "#     c = 2 * math.log(2)  # Average degree\n",
    "\n",
    "#     # Calculate m (number of edges) based on c\n",
    "#     m = int((c * n) / 2)\n",
    "\n",
    "#     # Generate the random network\n",
    "#     G = generate_random_network(n, m)\n",
    "\n",
    "#     # Calculate the size of the largest component\n",
    "#     largest_component_size = calculate_largest_component_size(G)\n",
    "\n",
    "#     print(f\"Largest component size: {largest_component_size}\")\n",
    "\n",
    "# if __name__ == \"__main__\":\n",
    "#     main()"
   ]
  },
  {
   "cell_type": "code",
   "execution_count": 3,
   "metadata": {},
   "outputs": [],
   "source": [
    "# from pdf2image import convert_from_path\n",
    "\n",
    "# from pdf2image.exceptions import (\n",
    "#     PDFInfoNotInstalledError,\n",
    "#     PDFPageCountError,\n",
    "#     PDFSyntaxError\n",
    "# )\n",
    "\n",
    "# images = convert_from_path('/Users/jenil/Desktop/thechecker/text_parser/GujaratiSample.pdf')\n",
    "\n",
    "# for i, image in enumerate(images):\n",
    "#     image.save(f'page_{i + 1}.png', 'PNG')"
   ]
  },
  {
   "cell_type": "code",
   "execution_count": null,
   "metadata": {},
   "outputs": [],
   "source": []
  }
 ],
 "metadata": {
  "kernelspec": {
   "display_name": "Python 3",
   "language": "python",
   "name": "python3"
  },
  "language_info": {
   "codemirror_mode": {
    "name": "ipython",
    "version": 3
   },
   "file_extension": ".py",
   "mimetype": "text/x-python",
   "name": "python",
   "nbconvert_exporter": "python",
   "pygments_lexer": "ipython3",
   "version": "3.11.4"
  },
  "orig_nbformat": 4
 },
 "nbformat": 4,
 "nbformat_minor": 2
}
